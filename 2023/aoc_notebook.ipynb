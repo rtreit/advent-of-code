{
 "cells": [
  {
   "cell_type": "code",
   "execution_count": 91,
   "metadata": {},
   "outputs": [
    {
     "name": "stdout",
     "output_type": "stream",
     "text": [
      "54390\n"
     ]
    }
   ],
   "source": [
    "# Day 1 Part 1\n",
    "with open(\"day_1_input.txt\") as f:\n",
    "    data = f.readlines()\n",
    "result = 0\n",
    "for line in data:\n",
    "    digits = []\n",
    "    for char in line:\n",
    "        if char.isdigit():\n",
    "            digits.append(char)\n",
    "    first = int(digits[0])\n",
    "    last = int(digits[len(digits)-1])\n",
    "    value = (first*10)+(last)\n",
    "    result += value\n",
    "print(result)"
   ]
  },
  {
   "cell_type": "code",
   "execution_count": 92,
   "metadata": {},
   "outputs": [
    {
     "data": {
      "text/plain": [
       "54277"
      ]
     },
     "execution_count": 92,
     "metadata": {},
     "output_type": "execute_result"
    }
   ],
   "source": [
    "# Day 1 Part 2\n",
    "with open(\"day_1_input.txt\") as f:\n",
    "    data = f.readlines()\n",
    "results = 0\n",
    "for line in data:\n",
    "    positions = {0:[], 1:[], 2:[], 3:[], 4:[], 5:[], 6:[], 7:[], 8:[], 9:[]}\n",
    "    digit_dict = {\"zero\":0, \"one\":1, \"two\":2, \"three\":3, \"four\":4, \"five\":5, \"six\":6, \"seven\":7, \"eight\":8, \"nine\":9}\n",
    "    for key in digit_dict:\n",
    "        matches = [match.start() for match in re.finditer(key, line)]\n",
    "        if matches != positions[digit_dict[key]]:\n",
    "            positions[digit_dict[key]] = positions[digit_dict[key]] + matches       \n",
    "    for char in line:\n",
    "        if char.isdigit():\n",
    "            matches = [match.start() for match in re.finditer(char, line)]\n",
    "            if matches != positions[int(char)]:\n",
    "                positions[int(char)] = positions[int(char)] + matches         \n",
    "    updated = {}\n",
    "    for k, v in positions.items():\n",
    "        if len(v) > 0:\n",
    "            updated[k] = list(set(v))\n",
    "    result = []\n",
    "    least = {}\n",
    "    most = {}\n",
    "    for k, v in updated.items():\n",
    "        least[min(v)] = k\n",
    "    for k, v in updated.items():\n",
    "        most[max(v)] = k    \n",
    "    updated\n",
    "    least = least[min(least.keys())]\n",
    "    most = most[max(most.keys())]    \n",
    "    value = least*10+most\n",
    "    results += value\n",
    "results        "
   ]
  }
 ],
 "metadata": {
  "kernelspec": {
   "display_name": "venv",
   "language": "python",
   "name": "python3"
  },
  "language_info": {
   "codemirror_mode": {
    "name": "ipython",
    "version": 3
   },
   "file_extension": ".py",
   "mimetype": "text/x-python",
   "name": "python",
   "nbconvert_exporter": "python",
   "pygments_lexer": "ipython3",
   "version": "3.11.6"
  },
  "orig_nbformat": 4
 },
 "nbformat": 4,
 "nbformat_minor": 2
}
