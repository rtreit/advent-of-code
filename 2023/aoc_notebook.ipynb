{
 "cells": [
  {
   "cell_type": "code",
   "execution_count": 1,
   "metadata": {},
   "outputs": [],
   "source": [
    "with open(\"day_1_input.txt\") as f:\n",
    "    data = f.readlines()\n",
    "result = 0\n",
    "for line in data:\n",
    "    digits = []\n",
    "    for char in line:\n",
    "        if char.isdigit():\n",
    "            digits.append(char)\n",
    "    first = int(digits[0])\n",
    "    last = int(digits[len(digits)-1])\n",
    "    value = (first*10)+(last)\n",
    "    result += value\n",
    "result"
   ]
  }
 ],
 "metadata": {
  "kernelspec": {
   "display_name": "venv",
   "language": "python",
   "name": "python3"
  },
  "language_info": {
   "codemirror_mode": {
    "name": "ipython",
    "version": 3
   },
   "file_extension": ".py",
   "mimetype": "text/x-python",
   "name": "python",
   "nbconvert_exporter": "python",
   "pygments_lexer": "ipython3",
   "version": "3.11.6"
  },
  "orig_nbformat": 4
 },
 "nbformat": 4,
 "nbformat_minor": 2
}
