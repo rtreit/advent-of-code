{
 "cells": [
  {
   "cell_type": "code",
   "execution_count": 1,
   "metadata": {},
   "outputs": [],
   "source": [
    "import re\n",
    "with open(\"./input.txt\") as f:\n",
    "    data = f.read()"
   ]
  },
  {
   "cell_type": "code",
   "execution_count": 85,
   "metadata": {},
   "outputs": [
    {
     "name": "stdout",
     "output_type": "stream",
     "text": [
      "Part 1: 174561379\n"
     ]
    }
   ],
   "source": [
    "pattern = r\"mul\\(.[0-9]*\\,[0-9]*\\)\"\n",
    "results = []\n",
    "a = []\n",
    "b = []\n",
    "matches = re.findall(pattern, data)\n",
    "for match in matches:\n",
    "    x = match.split(\"(\")[1].split(\",\")\n",
    "    a.append(int(x[0]))\n",
    "    b.append(int(x[1].replace(\")\", \"\")))\n",
    "y = zip(a,b)\n",
    "for i,j in y:\n",
    "    results.append(i*j)\n",
    "result_part_1 = sum(results)        \n",
    "print(f\"Part 1: {result_part_1}\")"
   ]
  },
  {
   "cell_type": "code",
   "execution_count": null,
   "metadata": {},
   "outputs": [
    {
     "data": {
      "text/plain": [
       "\"* select()why():how()~/mul~!^,from()#mul(601,494)%<,^mul(549,744)?!+/mul(381,237)+what()when()[)mul{~'~*what()from()$;#,mul(368,89){[;?how()why()#^%mul(926,974)how()select()when()when()@:{,do()how()from()from();;~when()<( mul(770,708)from()# ??($!:mul(612,548)$why())(who()%mul(776,783who()/%'>:%mul(651,439)/who(870,472)from()select()( -] $mul(16,267)mul(865,452)!select()who(){)$%$mul(888,41)],when(737,918)[#@#'mul(655,759)}/$(?#do()when()how()mul(160,406)]$mul(392,433)([;!##^from()mul(56,722)what()*#%select()(>#<who()mul(766,7)$mul(349,492) from()where();-}mul(12,290) -mul(268,832)~@what()when()!)@mul(994,952)?)'when()#'+mul(218,644)^^@ [mul(231,58)'[*/ mul(851,263)~select()#who()<#+where()who()mul(66,566)mul(347,173){why()%:what()]how()mul(266,892)}^mul(399,289)how()]@#]}#don't()$mul(337,947)^['[+-<}}'mul(556,447)&why()[when(193,903)select()mul(269,222)>mul(554,881)'mul(355,774)&/mul!~*<mul(900,983)/ select()'%?mul(112,191)*$&<who()when()when())mul(670,76)>)mul(32,426)where()[how()how()mul(160,991)(where()when()who()^{/why()mul(638,720)how()]]when()mul(617,160select()mul(728,694)+{why()mul(173,600)mul(846,617)?mul(630,82)select(450,31)mul(443,274){; ]when()-(#mul(274,844));];mul(69,98)how()(>#-select()%mul(121,360)!^! :<~why()#'mul(662,319):&%%%/;where(58,840)how()mul(140,256)#<$!when()how() <<mul(690,207)how():{<>!(who()do()}!&?#(>why()~mul(914,702);who(222,816)how(){(&('^;mul(881,879)who()mul(930,525)when(),when()mul(882what()&from():where()select(){>?&mul(535,202)/[<what()how()?mul(499,269)()%'[}mul(855,63)<-why()*?*mul(956,752)#;{!,#}how()don't();what()>~'[?#<^mul(195,514)#!mul(69,391)!,why()[,#~!,select()mul(732,760'[^?-^]>mul(52,825)when()(^where()]select()@do()#why()mul(287,62),who() &why()mul(24,517)#) from()what()mul(411,475)what()who()~$&mul(963}*&^,what()mul(162,897)!@~~@mul(985,450):%}-$where())when()mul(164,716)mul(211,564);mul(886,158)where()% '~select()@select())mul(215,209)%from(){select()who()mul(310,717/^$why(414,216)#&,why()select()@mul(765,613)where()^#}#@when()who()@why()mul(320,608)*mul(572,911)do())>:&%;mul(172how())%when()+@%@<mul(829,161),-:mul(304,894)}?*><%[mul(279,942)%#*;('#mul(838,154)/?what()when()&;@%^mul(65,418)<mul(308,921)[$($when(597,167)#)when()mul(355,197)~@'from()when(425,591)>why(307,491)mul(252,964)#mul(428,463)@from()mul(463,946){&where(649,23)+&who()$?),mul(545,536)#how()$?do()?mul(799,451)->%@what()!~mul(685,980)why()<<{!,)[mul(542,862)?),]>mul(702,259)who()^@mul(563,554)}%:}]}-$how()mul(819,791)#do()#:[:(what()how()}&mul(753,669)<{] do() /where()~where()%*(mul(561,517)~@where(82,621)~&mul(21,397)%mul(585,719)]!$where())!^when()who()who(587,725)mul(694,254)'-[+>{:;mul(650,398)select()%mul(549,891)$: #-how())}}from()\""
      ]
     },
     "execution_count": 88,
     "metadata": {},
     "output_type": "execute_result"
    }
   ],
   "source": [
    "pattern_b = r\"(?<=do\\(\\))(.*)(?=don't\\(\\))\"\n",
    "matches = re.findall(pattern_b, data)"
   ]
  }
 ],
 "metadata": {
  "kernelspec": {
   "display_name": "Python 3",
   "language": "python",
   "name": "python3"
  },
  "language_info": {
   "codemirror_mode": {
    "name": "ipython",
    "version": 3
   },
   "file_extension": ".py",
   "mimetype": "text/x-python",
   "name": "python",
   "nbconvert_exporter": "python",
   "pygments_lexer": "ipython3",
   "version": "3.12.7"
  }
 },
 "nbformat": 4,
 "nbformat_minor": 2
}
