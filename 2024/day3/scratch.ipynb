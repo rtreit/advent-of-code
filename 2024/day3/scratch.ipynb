{
 "cells": [
  {
   "cell_type": "code",
   "execution_count": 182,
   "metadata": {},
   "outputs": [],
   "source": [
    "import re\n",
    "with open(\"./input.txt\") as f:\n",
    "    data = f.read()"
   ]
  },
  {
   "cell_type": "code",
   "execution_count": 183,
   "metadata": {},
   "outputs": [],
   "source": [
    "def add_muls(input: str):\n",
    "    mul_pattern = r\"mul\\(.[0-9]*\\,[0-9]*\\)\"\n",
    "    results = []\n",
    "    a = []\n",
    "    b = []\n",
    "    matches = re.findall(mul_pattern, input)\n",
    "    for match in matches:\n",
    "        x = match.split(\"(\")[1].split(\",\")\n",
    "        a.append(int(x[0]))\n",
    "        b.append(int(x[1].replace(\")\", \"\")))\n",
    "    y = zip(a,b)\n",
    "    for i,j in y:\n",
    "        results.append(i*j)\n",
    "    return results"
   ]
  },
  {
   "cell_type": "code",
   "execution_count": 184,
   "metadata": {},
   "outputs": [
    {
     "name": "stdout",
     "output_type": "stream",
     "text": [
      "Part 1: 174561379\n"
     ]
    }
   ],
   "source": [
    "part_1 = sum(add_muls(data))\n",
    "print(f\"Part 1: {part_1}\")"
   ]
  },
  {
   "cell_type": "code",
   "execution_count": 187,
   "metadata": {},
   "outputs": [
    {
     "name": "stdout",
     "output_type": "stream",
     "text": [
      "Part 2: 106921067\n"
     ]
    }
   ],
   "source": [
    "enabled_muls = []\n",
    "def find_the_muls(data):\n",
    "    disabled_index = data.find(\"don't()\")\n",
    "    if disabled_index > -1:\n",
    "        input = data[:disabled_index]\n",
    "        muls = add_muls(input)\n",
    "        for mul in muls:\n",
    "            enabled_muls.append(mul)\n",
    "        new_input = data[disabled_index+7:]\n",
    "        enabled_index = new_input.find(\"do()\")\n",
    "        if enabled_index > -1:\n",
    "            find_the_muls(new_input[enabled_index+4:])\n",
    "find_the_muls(data)\n",
    "part_2 = sum(enabled_muls)\n",
    "print(f\"Part 2: {part_2}\")"
   ]
  }
 ],
 "metadata": {
  "kernelspec": {
   "display_name": "Python 3",
   "language": "python",
   "name": "python3"
  },
  "language_info": {
   "codemirror_mode": {
    "name": "ipython",
    "version": 3
   },
   "file_extension": ".py",
   "mimetype": "text/x-python",
   "name": "python",
   "nbconvert_exporter": "python",
   "pygments_lexer": "ipython3",
   "version": "3.12.7"
  }
 },
 "nbformat": 4,
 "nbformat_minor": 2
}
