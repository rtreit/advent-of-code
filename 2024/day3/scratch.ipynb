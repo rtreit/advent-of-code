{
 "cells": [
  {
   "cell_type": "code",
   "execution_count": 1,
   "metadata": {},
   "outputs": [],
   "source": [
    "import re\n",
    "with open(\"./input.txt\") as f:\n",
    "    data = f.read()"
   ]
  },
  {
   "cell_type": "code",
   "execution_count": 59,
   "metadata": {},
   "outputs": [
    {
     "name": "stderr",
     "output_type": "stream",
     "text": [
      "<>:1: SyntaxWarning: invalid escape sequence '\\('\n",
      "<>:1: SyntaxWarning: invalid escape sequence '\\('\n",
      "C:\\Users\\randy\\AppData\\Local\\Temp\\ipykernel_38932\\3854455514.py:1: SyntaxWarning: invalid escape sequence '\\('\n",
      "  pattern = \"mul\\(.[0-9]*\\,[0-9]*\\)\"\n"
     ]
    },
    {
     "data": {
      "text/plain": [
       "174561379"
      ]
     },
     "execution_count": 59,
     "metadata": {},
     "output_type": "execute_result"
    }
   ],
   "source": [
    "pattern = \"mul\\(.[0-9]*\\,[0-9]*\\)\"\n",
    "results = []\n",
    "a = []\n",
    "b = []\n",
    "matches = re.findall(pattern, data)\n",
    "for match in matches:\n",
    "    x = match.split(\"(\")[1].split(\",\")\n",
    "    a.append(int(x[0]))\n",
    "    b.append(int(x[1].replace(\")\", \"\")))\n",
    "y = zip(a,b)\n",
    "for i,j in y:\n",
    "    results.append(i*j)\n",
    "sum(results)    "
   ]
  }
 ],
 "metadata": {
  "kernelspec": {
   "display_name": "Python 3",
   "language": "python",
   "name": "python3"
  },
  "language_info": {
   "codemirror_mode": {
    "name": "ipython",
    "version": 3
   },
   "file_extension": ".py",
   "mimetype": "text/x-python",
   "name": "python",
   "nbconvert_exporter": "python",
   "pygments_lexer": "ipython3",
   "version": "3.12.7"
  }
 },
 "nbformat": 4,
 "nbformat_minor": 2
}
